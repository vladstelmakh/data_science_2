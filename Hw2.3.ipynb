{
  "nbformat": 4,
  "nbformat_minor": 0,
  "metadata": {
    "colab": {
      "provenance": []
    },
    "kernelspec": {
      "name": "python3",
      "display_name": "Python 3"
    },
    "language_info": {
      "name": "python"
    }
  },
  "cells": [
    {
      "cell_type": "code",
      "execution_count": 1,
      "metadata": {
        "colab": {
          "base_uri": "https://localhost:8080/",
          "height": 74
        },
        "id": "pHfPrra9oT0o",
        "outputId": "e5854e33-84db-49ba-d469-7e3a40e71744"
      },
      "outputs": [
        {
          "output_type": "display_data",
          "data": {
            "text/plain": [
              "<IPython.core.display.HTML object>"
            ],
            "text/html": [
              "\n",
              "     <input type=\"file\" id=\"files-f08862d6-4915-47c0-ba83-30dfd2ed0d2a\" name=\"files[]\" multiple disabled\n",
              "        style=\"border:none\" />\n",
              "     <output id=\"result-f08862d6-4915-47c0-ba83-30dfd2ed0d2a\">\n",
              "      Upload widget is only available when the cell has been executed in the\n",
              "      current browser session. Please rerun this cell to enable.\n",
              "      </output>\n",
              "      <script>// Copyright 2017 Google LLC\n",
              "//\n",
              "// Licensed under the Apache License, Version 2.0 (the \"License\");\n",
              "// you may not use this file except in compliance with the License.\n",
              "// You may obtain a copy of the License at\n",
              "//\n",
              "//      http://www.apache.org/licenses/LICENSE-2.0\n",
              "//\n",
              "// Unless required by applicable law or agreed to in writing, software\n",
              "// distributed under the License is distributed on an \"AS IS\" BASIS,\n",
              "// WITHOUT WARRANTIES OR CONDITIONS OF ANY KIND, either express or implied.\n",
              "// See the License for the specific language governing permissions and\n",
              "// limitations under the License.\n",
              "\n",
              "/**\n",
              " * @fileoverview Helpers for google.colab Python module.\n",
              " */\n",
              "(function(scope) {\n",
              "function span(text, styleAttributes = {}) {\n",
              "  const element = document.createElement('span');\n",
              "  element.textContent = text;\n",
              "  for (const key of Object.keys(styleAttributes)) {\n",
              "    element.style[key] = styleAttributes[key];\n",
              "  }\n",
              "  return element;\n",
              "}\n",
              "\n",
              "// Max number of bytes which will be uploaded at a time.\n",
              "const MAX_PAYLOAD_SIZE = 100 * 1024;\n",
              "\n",
              "function _uploadFiles(inputId, outputId) {\n",
              "  const steps = uploadFilesStep(inputId, outputId);\n",
              "  const outputElement = document.getElementById(outputId);\n",
              "  // Cache steps on the outputElement to make it available for the next call\n",
              "  // to uploadFilesContinue from Python.\n",
              "  outputElement.steps = steps;\n",
              "\n",
              "  return _uploadFilesContinue(outputId);\n",
              "}\n",
              "\n",
              "// This is roughly an async generator (not supported in the browser yet),\n",
              "// where there are multiple asynchronous steps and the Python side is going\n",
              "// to poll for completion of each step.\n",
              "// This uses a Promise to block the python side on completion of each step,\n",
              "// then passes the result of the previous step as the input to the next step.\n",
              "function _uploadFilesContinue(outputId) {\n",
              "  const outputElement = document.getElementById(outputId);\n",
              "  const steps = outputElement.steps;\n",
              "\n",
              "  const next = steps.next(outputElement.lastPromiseValue);\n",
              "  return Promise.resolve(next.value.promise).then((value) => {\n",
              "    // Cache the last promise value to make it available to the next\n",
              "    // step of the generator.\n",
              "    outputElement.lastPromiseValue = value;\n",
              "    return next.value.response;\n",
              "  });\n",
              "}\n",
              "\n",
              "/**\n",
              " * Generator function which is called between each async step of the upload\n",
              " * process.\n",
              " * @param {string} inputId Element ID of the input file picker element.\n",
              " * @param {string} outputId Element ID of the output display.\n",
              " * @return {!Iterable<!Object>} Iterable of next steps.\n",
              " */\n",
              "function* uploadFilesStep(inputId, outputId) {\n",
              "  const inputElement = document.getElementById(inputId);\n",
              "  inputElement.disabled = false;\n",
              "\n",
              "  const outputElement = document.getElementById(outputId);\n",
              "  outputElement.innerHTML = '';\n",
              "\n",
              "  const pickedPromise = new Promise((resolve) => {\n",
              "    inputElement.addEventListener('change', (e) => {\n",
              "      resolve(e.target.files);\n",
              "    });\n",
              "  });\n",
              "\n",
              "  const cancel = document.createElement('button');\n",
              "  inputElement.parentElement.appendChild(cancel);\n",
              "  cancel.textContent = 'Cancel upload';\n",
              "  const cancelPromise = new Promise((resolve) => {\n",
              "    cancel.onclick = () => {\n",
              "      resolve(null);\n",
              "    };\n",
              "  });\n",
              "\n",
              "  // Wait for the user to pick the files.\n",
              "  const files = yield {\n",
              "    promise: Promise.race([pickedPromise, cancelPromise]),\n",
              "    response: {\n",
              "      action: 'starting',\n",
              "    }\n",
              "  };\n",
              "\n",
              "  cancel.remove();\n",
              "\n",
              "  // Disable the input element since further picks are not allowed.\n",
              "  inputElement.disabled = true;\n",
              "\n",
              "  if (!files) {\n",
              "    return {\n",
              "      response: {\n",
              "        action: 'complete',\n",
              "      }\n",
              "    };\n",
              "  }\n",
              "\n",
              "  for (const file of files) {\n",
              "    const li = document.createElement('li');\n",
              "    li.append(span(file.name, {fontWeight: 'bold'}));\n",
              "    li.append(span(\n",
              "        `(${file.type || 'n/a'}) - ${file.size} bytes, ` +\n",
              "        `last modified: ${\n",
              "            file.lastModifiedDate ? file.lastModifiedDate.toLocaleDateString() :\n",
              "                                    'n/a'} - `));\n",
              "    const percent = span('0% done');\n",
              "    li.appendChild(percent);\n",
              "\n",
              "    outputElement.appendChild(li);\n",
              "\n",
              "    const fileDataPromise = new Promise((resolve) => {\n",
              "      const reader = new FileReader();\n",
              "      reader.onload = (e) => {\n",
              "        resolve(e.target.result);\n",
              "      };\n",
              "      reader.readAsArrayBuffer(file);\n",
              "    });\n",
              "    // Wait for the data to be ready.\n",
              "    let fileData = yield {\n",
              "      promise: fileDataPromise,\n",
              "      response: {\n",
              "        action: 'continue',\n",
              "      }\n",
              "    };\n",
              "\n",
              "    // Use a chunked sending to avoid message size limits. See b/62115660.\n",
              "    let position = 0;\n",
              "    do {\n",
              "      const length = Math.min(fileData.byteLength - position, MAX_PAYLOAD_SIZE);\n",
              "      const chunk = new Uint8Array(fileData, position, length);\n",
              "      position += length;\n",
              "\n",
              "      const base64 = btoa(String.fromCharCode.apply(null, chunk));\n",
              "      yield {\n",
              "        response: {\n",
              "          action: 'append',\n",
              "          file: file.name,\n",
              "          data: base64,\n",
              "        },\n",
              "      };\n",
              "\n",
              "      let percentDone = fileData.byteLength === 0 ?\n",
              "          100 :\n",
              "          Math.round((position / fileData.byteLength) * 100);\n",
              "      percent.textContent = `${percentDone}% done`;\n",
              "\n",
              "    } while (position < fileData.byteLength);\n",
              "  }\n",
              "\n",
              "  // All done.\n",
              "  yield {\n",
              "    response: {\n",
              "      action: 'complete',\n",
              "    }\n",
              "  };\n",
              "}\n",
              "\n",
              "scope.google = scope.google || {};\n",
              "scope.google.colab = scope.google.colab || {};\n",
              "scope.google.colab._files = {\n",
              "  _uploadFiles,\n",
              "  _uploadFilesContinue,\n",
              "};\n",
              "})(self);\n",
              "</script> "
            ]
          },
          "metadata": {}
        },
        {
          "output_type": "stream",
          "name": "stdout",
          "text": [
            "Saving bestsellers with categories.csv to bestsellers with categories.csv\n"
          ]
        }
      ],
      "source": [
        "from google.colab import files\n",
        "\n",
        "uploaded = files.upload()"
      ]
    },
    {
      "cell_type": "code",
      "source": [
        "import pandas as pd\n",
        "\n",
        "df = pd.read_csv('bestsellers with categories.csv')\n",
        "print(df.head())"
      ],
      "metadata": {
        "colab": {
          "base_uri": "https://localhost:8080/"
        },
        "id": "mAgZXvattp_5",
        "outputId": "c960afd7-a2b8-4ce5-b72f-f0e03f04d6e9"
      },
      "execution_count": 2,
      "outputs": [
        {
          "output_type": "stream",
          "name": "stdout",
          "text": [
            "                                                Name  \\\n",
            "0                      10-Day Green Smoothie Cleanse   \n",
            "1                                  11/22/63: A Novel   \n",
            "2            12 Rules for Life: An Antidote to Chaos   \n",
            "3                             1984 (Signet Classics)   \n",
            "4  5,000 Awesome Facts (About Everything!) (Natio...   \n",
            "\n",
            "                     Author  User Rating  Reviews  Price  Year        Genre  \n",
            "0                  JJ Smith          4.7    17350      8  2016  Non Fiction  \n",
            "1              Stephen King          4.6     2052     22  2011      Fiction  \n",
            "2        Jordan B. Peterson          4.7    18979     15  2018  Non Fiction  \n",
            "3             George Orwell          4.7    21424      6  2017      Fiction  \n",
            "4  National Geographic Kids          4.8     7665     12  2019  Non Fiction  \n"
          ]
        }
      ]
    },
    {
      "cell_type": "code",
      "source": [
        "print(\"Розмір датасету:\", df.shape)"
      ],
      "metadata": {
        "colab": {
          "base_uri": "https://localhost:8080/"
        },
        "id": "2DXQOjQdt6WM",
        "outputId": "df017e05-c24c-4d07-e69d-f6fbd678cd62"
      },
      "execution_count": 3,
      "outputs": [
        {
          "output_type": "stream",
          "name": "stdout",
          "text": [
            "Розмір датасету: (550, 7)\n"
          ]
        }
      ]
    },
    {
      "cell_type": "code",
      "source": [
        "df.columns = ['name', 'author', 'user_rating', 'reviews', 'price', 'year', 'genre']\n"
      ],
      "metadata": {
        "id": "pOEupbVOuBNm"
      },
      "execution_count": 4,
      "outputs": []
    },
    {
      "cell_type": "code",
      "source": [
        "print(\"Кількість пропусків у кожному стовпці:\")\n",
        "print(df.isna().sum())\n"
      ],
      "metadata": {
        "colab": {
          "base_uri": "https://localhost:8080/"
        },
        "id": "Km740QskuDGo",
        "outputId": "7ae1b855-42fc-44d2-ab83-f875a67d915c"
      },
      "execution_count": 5,
      "outputs": [
        {
          "output_type": "stream",
          "name": "stdout",
          "text": [
            "Кількість пропусків у кожному стовпці:\n",
            "name           0\n",
            "author         0\n",
            "user_rating    0\n",
            "reviews        0\n",
            "price          0\n",
            "year           0\n",
            "genre          0\n",
            "dtype: int64\n"
          ]
        }
      ]
    },
    {
      "cell_type": "code",
      "source": [
        "print(\"Унікальні жанри:\", df['genre'].unique())"
      ],
      "metadata": {
        "colab": {
          "base_uri": "https://localhost:8080/"
        },
        "id": "cAMoCMUFuGjU",
        "outputId": "90aa4b68-7e61-4789-b11a-b06bb24ad5d4"
      },
      "execution_count": 6,
      "outputs": [
        {
          "output_type": "stream",
          "name": "stdout",
          "text": [
            "Унікальні жанри: ['Non Fiction' 'Fiction']\n"
          ]
        }
      ]
    },
    {
      "cell_type": "markdown",
      "source": [
        "Побудуйте діаграму розподілу цін:"
      ],
      "metadata": {
        "id": "WGAre-CQuLvs"
      }
    },
    {
      "cell_type": "code",
      "source": [
        "import matplotlib.pyplot as plt\n",
        "\n",
        "df['price'].plot(kind='hist', bins=20)\n",
        "plt.xlabel('Ціна')\n",
        "plt.ylabel('Кількість книг')\n",
        "plt.show()"
      ],
      "metadata": {
        "colab": {
          "base_uri": "https://localhost:8080/",
          "height": 449
        },
        "id": "48T1JNAIuJmg",
        "outputId": "276afa43-7c4c-481c-9e95-5f381616a61d"
      },
      "execution_count": 7,
      "outputs": [
        {
          "output_type": "display_data",
          "data": {
            "text/plain": [
              "<Figure size 640x480 with 1 Axes>"
            ],
            "image/png": "[encoded data removed]"
          },
          "metadata": {}
        }
      ]
    },
    {
      "cell_type": "markdown",
      "source": [
        "Визначте максимальну, мінімальну, середню та медіанну ціни:"
      ],
      "metadata": {
        "id": "qLc6XbTZuOVh"
      }
    },
    {
      "cell_type": "code",
      "source": [
        "max_price = df['price'].max()\n",
        "min_price = df['price'].min()\n",
        "mean_price = df['price'].mean()\n",
        "median_price = df['price'].median()\n",
        "\n",
        "print(\"Максимальна ціна:\", max_price)\n",
        "print(\"Мінімальна ціна:\", min_price)\n",
        "print(\"Середня ціна:\", mean_price)\n",
        "print(\"Медіанна ціна:\", median_price)\n"
      ],
      "metadata": {
        "colab": {
          "base_uri": "https://localhost:8080/"
        },
        "id": "sHYl92RquKyG",
        "outputId": "c9a45a36-2fc0-4b9e-f01f-60580b9f93e0"
      },
      "execution_count": 8,
      "outputs": [
        {
          "output_type": "stream",
          "name": "stdout",
          "text": [
            "Максимальна ціна: 105\n",
            "Мінімальна ціна: 0\n",
            "Середня ціна: 13.1\n",
            "Медіанна ціна: 11.0\n"
          ]
        }
      ]
    },
    {
      "cell_type": "markdown",
      "source": [
        "Знайдіть книгу з найвищим рейтингом:"
      ],
      "metadata": {
        "id": "EdYU4jxMuVCI"
      }
    },
    {
      "cell_type": "code",
      "source": [
        "max_rating = df['user_rating'].max()\n",
        "max_rating_book = df[df['user_rating'] == max_rating]['name'].iloc[0]\n",
        "\n",
        "print(\"Книга з найвищим рейтингом:\", max_rating_book)\n"
      ],
      "metadata": {
        "colab": {
          "base_uri": "https://localhost:8080/"
        },
        "id": "_8w-LFeEuWfq",
        "outputId": "45b995a5-97cf-440c-e5d1-f24e053fe6d4"
      },
      "execution_count": 9,
      "outputs": [
        {
          "output_type": "stream",
          "name": "stdout",
          "text": [
            "Книга з найвищим рейтингом: Brown Bear, Brown Bear, What Do You See?\n"
          ]
        }
      ]
    },
    {
      "cell_type": "markdown",
      "source": [
        "Знайдіть кількість книг з найвищим рейтингом:"
      ],
      "metadata": {
        "id": "n3bVck26uaA9"
      }
    },
    {
      "cell_type": "code",
      "source": [
        "count_max_rating = df[df['user_rating'] == max_rating].shape[0]\n",
        "\n",
        "print(\"Кількість книг з найвищим рейтингом:\", count_max_rating)\n"
      ],
      "metadata": {
        "colab": {
          "base_uri": "https://localhost:8080/"
        },
        "id": "XV8D7uKeuaMu",
        "outputId": "930265d2-d569-446d-f679-67c3e833fad8"
      },
      "execution_count": 10,
      "outputs": [
        {
          "output_type": "stream",
          "name": "stdout",
          "text": [
            "Кількість книг з найвищим рейтингом: 52\n"
          ]
        }
      ]
    },
    {
      "cell_type": "markdown",
      "source": [
        "Знайдіть книгу з найбільшою кількістю відгуків:"
      ],
      "metadata": {
        "id": "pz_T0HqMud2a"
      }
    },
    {
      "cell_type": "code",
      "source": [
        "max_reviews = df['reviews'].max()\n",
        "max_reviews_book = df[df['reviews'] == max_reviews]['name'].iloc[0]\n",
        "\n",
        "print(\"Книга з найбільшою кількістю відгуків:\", max_reviews_book)\n"
      ],
      "metadata": {
        "colab": {
          "base_uri": "https://localhost:8080/"
        },
        "id": "0w27zYgKueAv",
        "outputId": "50400459-0c76-4791-9c32-f26216e25079"
      },
      "execution_count": 11,
      "outputs": [
        {
          "output_type": "stream",
          "name": "stdout",
          "text": [
            "Книга з найбільшою кількістю відгуків: Where the Crawdads Sing\n"
          ]
        }
      ]
    },
    {
      "cell_type": "markdown",
      "source": [
        "Знайдіть найдорожчу книгу серед тих, які потрапили до Топ-50 у 2015 році:"
      ],
      "metadata": {
        "id": "pDYdr83MujCX"
      }
    },
    {
      "cell_type": "code",
      "source": [
        "df_2015 = df[df['year'] == 2015]\n",
        "max_price_2015 = df_2015['price'].max()\n",
        "max_price_2015_book = df_2015[df_2015['price'] == max_price_2015]['name'].iloc[0]\n",
        "\n",
        "print(\"Найдорожча книга серед тих, що потрапили до Топ-50 у 2015 році:\", max_price_2015_book)\n"
      ],
      "metadata": {
        "colab": {
          "base_uri": "https://localhost:8080/"
        },
        "id": "GDMSOiL0ujLe",
        "outputId": "a7523572-d713-4d2d-95d8-94e9c4589a9e"
      },
      "execution_count": 12,
      "outputs": [
        {
          "output_type": "stream",
          "name": "stdout",
          "text": [
            "Найдорожча книга серед тих, що потрапили до Топ-50 у 2015 році: Publication Manual of the American Psychological Association, 6th Edition\n"
          ]
        }
      ]
    },
    {
      "cell_type": "markdown",
      "source": [
        "Знайдіть кількість книг жанру Fiction, які потрапили до Топ-50 у 2010 році:\n",
        "python\n"
      ],
      "metadata": {
        "id": "7G0I6g5suzdP"
      }
    },
    {
      "cell_type": "code",
      "source": [
        "count_fiction_2010 = df[(df['genre'] == 'Fiction') & (df['year'] == 2010)].shape[0]\n",
        "\n",
        "print(\"Кількість книг жанру Fiction, які потрапили до Топ-50 у 2010 році:\", count_fiction_2010)\n"
      ],
      "metadata": {
        "colab": {
          "base_uri": "https://localhost:8080/"
        },
        "id": "QVqJlK4Duzlp",
        "outputId": "3aee63f7-6543-4b11-9ad2-4a6bac681cf5"
      },
      "execution_count": 13,
      "outputs": [
        {
          "output_type": "stream",
          "name": "stdout",
          "text": [
            "Кількість книг жанру Fiction, які потрапили до Топ-50 у 2010 році: 20\n"
          ]
        }
      ]
    },
    {
      "cell_type": "markdown",
      "source": [
        "Знайдіть кількість книг з рейтингом 4.9, які потрапили до рейтингу у 2010 та 2011 роках:"
      ],
      "metadata": {
        "id": "ZGXIKT6Du3Su"
      }
    },
    {
      "cell_type": "code",
      "source": [
        "count_4_9_2010_2011 = df[(df['user_rating'] == 4.9) & (df['year'].isin([2010, 2011]))].shape[0]\n",
        "\n",
        "print(\"Кількість книг з рейтингом 4.9, які потрапили до рейтингу у 2010 та 2011 роках:\", count_4_9_2010_2011)\n"
      ],
      "metadata": {
        "colab": {
          "base_uri": "https://localhost:8080/"
        },
        "id": "lQZ9xpiou3df",
        "outputId": "6d0cba7d-e27e-4167-eaa8-ef11678fb8ed"
      },
      "execution_count": 14,
      "outputs": [
        {
          "output_type": "stream",
          "name": "stdout",
          "text": [
            "Кількість книг з рейтингом 4.9, які потрапили до рейтингу у 2010 та 2011 роках: 1\n"
          ]
        }
      ]
    },
    {
      "cell_type": "markdown",
      "source": [
        "Відсортуйте всі книги, які потрапили до рейтингу в 2015 році і коштують менше за 8 доларів:"
      ],
      "metadata": {
        "id": "GhU3HK4Uu9ER"
      }
    },
    {
      "cell_type": "code",
      "source": [
        "sorted_books = df[(df['year'] == 2015) & (df['price'] < 8)].sort_values(by='price')\n",
        "\n",
        "last_book = sorted_books['name'].iloc[-1]\n",
        "\n",
        "print(\"Остання книга у відсортованому списку:\", last_book)\n"
      ],
      "metadata": {
        "colab": {
          "base_uri": "https://localhost:8080/"
        },
        "id": "SDLbUXhCu9Z1",
        "outputId": "d8d9e28c-dfbe-4cf9-b60b-8a9b3e50b96e"
      },
      "execution_count": 15,
      "outputs": [
        {
          "output_type": "stream",
          "name": "stdout",
          "text": [
            "Остання книга у відсортованому списку: Old School (Diary of a Wimpy Kid #10)\n"
          ]
        }
      ]
    },
    {
      "cell_type": "markdown",
      "source": [
        "Подивімося на максимальну та мінімальну ціни для кожного з жанрів:"
      ],
      "metadata": {
        "id": "epvva5oDvH02"
      }
    },
    {
      "cell_type": "code",
      "source": [
        "genre_price_stats = df.groupby('genre')['price'].agg(['max', 'min'])\n",
        "print(genre_price_stats)\n"
      ],
      "metadata": {
        "colab": {
          "base_uri": "https://localhost:8080/"
        },
        "id": "A4R4tdzOvIJd",
        "outputId": "b0578e53-35fa-494e-ecfc-5b52b80d4c35"
      },
      "execution_count": 16,
      "outputs": [
        {
          "output_type": "stream",
          "name": "stdout",
          "text": [
            "             max  min\n",
            "genre                \n",
            "Fiction       82    0\n",
            "Non Fiction  105    0\n"
          ]
        }
      ]
    },
    {
      "cell_type": "markdown",
      "source": [
        "Створіть новий датафрейм, який вміщатиме кількість книг для кожного з авторів:"
      ],
      "metadata": {
        "id": "er4p-cvOvM3d"
      }
    },
    {
      "cell_type": "code",
      "source": [
        "author_book_count = df.groupby('author')['name'].count().reset_index()\n",
        "print(author_book_count)"
      ],
      "metadata": {
        "colab": {
          "base_uri": "https://localhost:8080/"
        },
        "id": "yB27rAQBvNES",
        "outputId": "211f2d55-73c0-4aa7-8ee2-65eecd118d09"
      },
      "execution_count": 17,
      "outputs": [
        {
          "output_type": "stream",
          "name": "stdout",
          "text": [
            "                         author  name\n",
            "0              Abraham Verghese     2\n",
            "1                Adam Gasiewski     1\n",
            "2                 Adam Mansbach     1\n",
            "3                     Adir Levy     1\n",
            "4    Admiral William H. McRaven     1\n",
            "..                          ...   ...\n",
            "243             Walter Isaacson     3\n",
            "244               William Davis     2\n",
            "245            William P. Young     2\n",
            "246            Wizards RPG Team     3\n",
            "247                Zhi Gang Sha     2\n",
            "\n",
            "[248 rows x 2 columns]\n"
          ]
        }
      ]
    },
    {
      "cell_type": "markdown",
      "source": [
        "Знайдіть автора з найбільшою кількістю книг:"
      ],
      "metadata": {
        "id": "1qFwlRMKvQkc"
      }
    },
    {
      "cell_type": "code",
      "source": [
        "max_books_author = author_book_count[author_book_count['name'] == author_book_count['name'].max()]\n",
        "print(\"Автор з найбільшою кількістю книг:\", max_books_author)\n"
      ],
      "metadata": {
        "colab": {
          "base_uri": "https://localhost:8080/"
        },
        "id": "23i8ChimvQw5",
        "outputId": "9225cc48-fb1a-4369-cf6d-6ae5293cdbc6"
      },
      "execution_count": 18,
      "outputs": [
        {
          "output_type": "stream",
          "name": "stdout",
          "text": [
            "Автор з найбільшою кількістю книг:           author  name\n",
            "120  Jeff Kinney    12\n"
          ]
        }
      ]
    },
    {
      "cell_type": "markdown",
      "source": [
        "Створіть другий датафрейм, який буде вміщати середній рейтинг для кожного автора:\n"
      ],
      "metadata": {
        "id": "UQMTchW9ve4y"
      }
    },
    {
      "cell_type": "code",
      "source": [
        "author_avg_rating = df.groupby('author')['user_rating'].mean().reset_index()\n",
        "print(author_avg_rating)\n"
      ],
      "metadata": {
        "colab": {
          "base_uri": "https://localhost:8080/"
        },
        "id": "dIYpkkbRvfBj",
        "outputId": "aea500f5-0d68-4988-a0eb-beb125928253"
      },
      "execution_count": 19,
      "outputs": [
        {
          "output_type": "stream",
          "name": "stdout",
          "text": [
            "                         author  user_rating\n",
            "0              Abraham Verghese     4.600000\n",
            "1                Adam Gasiewski     4.400000\n",
            "2                 Adam Mansbach     4.800000\n",
            "3                     Adir Levy     4.800000\n",
            "4    Admiral William H. McRaven     4.700000\n",
            "..                          ...          ...\n",
            "243             Walter Isaacson     4.566667\n",
            "244               William Davis     4.400000\n",
            "245            William P. Young     4.600000\n",
            "246            Wizards RPG Team     4.800000\n",
            "247                Zhi Gang Sha     4.600000\n",
            "\n",
            "[248 rows x 2 columns]\n"
          ]
        }
      ]
    },
    {
      "cell_type": "markdown",
      "source": [
        "Знайдіть автора з найнижчим середнім рейтингом:"
      ],
      "metadata": {
        "id": "IBgEsscZvinC"
      }
    },
    {
      "cell_type": "code",
      "source": [
        "min_avg_rating_author = author_avg_rating[author_avg_rating['user_rating'] == author_avg_rating['user_rating'].min()]\n",
        "print(\"Автор з найнижчим середнім рейтингом:\", min_avg_rating_author)\n"
      ],
      "metadata": {
        "colab": {
          "base_uri": "https://localhost:8080/"
        },
        "id": "Fks-IfOUvixx",
        "outputId": "06e04e3e-656a-4e24-e5e3-ba1f5ad19703"
      },
      "execution_count": 20,
      "outputs": [
        {
          "output_type": "stream",
          "name": "stdout",
          "text": [
            "Автор з найнижчим середнім рейтингом:          author  user_rating\n",
            "71  Donna Tartt          3.9\n"
          ]
        }
      ]
    },
    {
      "cell_type": "markdown",
      "source": [
        "З'єднайте два датафрейми, щоб для кожного автора було видно кількість книг та середній рейтинг:"
      ],
      "metadata": {
        "id": "fUT6hFQ1vl7P"
      }
    },
    {
      "cell_type": "code",
      "source": [
        "author_summary = pd.concat([author_book_count, author_avg_rating['user_rating']], axis=1)\n",
        "print(author_summary)\n"
      ],
      "metadata": {
        "colab": {
          "base_uri": "https://localhost:8080/"
        },
        "id": "76vAYM7ZvmN_",
        "outputId": "87677249-0d2b-41d7-a231-02eac65028fc"
      },
      "execution_count": 21,
      "outputs": [
        {
          "output_type": "stream",
          "name": "stdout",
          "text": [
            "                         author  name  user_rating\n",
            "0              Abraham Verghese     2     4.600000\n",
            "1                Adam Gasiewski     1     4.400000\n",
            "2                 Adam Mansbach     1     4.800000\n",
            "3                     Adir Levy     1     4.800000\n",
            "4    Admiral William H. McRaven     1     4.700000\n",
            "..                          ...   ...          ...\n",
            "243             Walter Isaacson     3     4.566667\n",
            "244               William Davis     2     4.400000\n",
            "245            William P. Young     2     4.600000\n",
            "246            Wizards RPG Team     3     4.800000\n",
            "247                Zhi Gang Sha     2     4.600000\n",
            "\n",
            "[248 rows x 3 columns]\n"
          ]
        }
      ]
    },
    {
      "cell_type": "markdown",
      "source": [
        "Відсортуйте датафрейм за зростаючою кількістю книг та зростаючим рейтингом:"
      ],
      "metadata": {
        "id": "MaAIQTGivp0g"
      }
    },
    {
      "cell_type": "code",
      "source": [
        "sorted_author_summary = author_summary.sort_values(by=['name', 'user_rating'])\n",
        "print(sorted_author_summary)\n"
      ],
      "metadata": {
        "colab": {
          "base_uri": "https://localhost:8080/"
        },
        "id": "Ut4-4edbvqfx",
        "outputId": "2a015e85-41f5-4ede-80af-3e540f76522c"
      },
      "execution_count": 23,
      "outputs": [
        {
          "output_type": "stream",
          "name": "stdout",
          "text": [
            "                                 author  name  user_rating\n",
            "171                      Muriel Barbery     1     4.000000\n",
            "43                         Chris Cleave     1     4.100000\n",
            "109                   Ian K. Smith M.D.     1     4.100000\n",
            "186                        Pierre Dukan     1     4.100000\n",
            "81                     Elizabeth Strout     1     4.200000\n",
            "..                                  ...   ...          ...\n",
            "11   American Psychological Association    10     4.500000\n",
            "226                     Suzanne Collins    11     4.663636\n",
            "92                         Gary Chapman    11     4.736364\n",
            "197                        Rick Riordan    11     4.772727\n",
            "120                         Jeff Kinney    12     4.800000\n",
            "\n",
            "[248 rows x 3 columns]\n"
          ]
        }
      ]
    },
    {
      "cell_type": "code",
      "source": [
        "import seaborn as sns\n",
        "\n",
        "sns.countplot(x='genre', data=df)\n",
        "plt.title('Розподіл книг за жанром')\n",
        "plt.xlabel('Жанр')\n",
        "plt.ylabel('Кількість книг')\n",
        "plt.xticks(rotation=45)\n",
        "plt.show()"
      ],
      "metadata": {
        "colab": {
          "base_uri": "https://localhost:8080/",
          "height": 522
        },
        "id": "bCArC5myv60_",
        "outputId": "8afaae8a-ed58-49be-f2ea-87137807f150"
      },
      "execution_count": 24,
      "outputs": [
        {
          "output_type": "display_data",
          "data": {
            "text/plain": [
              "<Figure size 640x480 with 1 Axes>"
            ],
            "image/png": "[encoded data removed]"
          },
          "metadata": {}
        }
      ]
    },
    {
      "cell_type": "code",
      "source": [
        "plt.scatter(df['reviews'], df['price'], alpha=0.5)\n",
        "plt.title('Залежність ціни від кількості відгуків')\n",
        "plt.xlabel('Кількість відгуків')\n",
        "plt.ylabel('Ціна')\n",
        "plt.show()\n"
      ],
      "metadata": {
        "colab": {
          "base_uri": "https://localhost:8080/",
          "height": 472
        },
        "id": "xdpUrOYzv_S1",
        "outputId": "5061c416-704c-4da9-c3d3-0952f23c976f"
      },
      "execution_count": 25,
      "outputs": [
        {
          "output_type": "display_data",
          "data": {
            "text/plain": [
              "<Figure size 640x480 with 1 Axes>"
            ],
            "image/png": "[encoded data removed]"
          },
          "metadata": {}
        }
      ]
    },
    {
      "cell_type": "code",
      "source": [
        "plt.hist(df['user_rating'], bins=10, edgecolor='k')\n",
        "plt.title('Розподіл рейтингу книг')\n",
        "plt.xlabel('Рейтинг')\n",
        "plt.ylabel('Кількість книг')\n",
        "plt.show()"
      ],
      "metadata": {
        "colab": {
          "base_uri": "https://localhost:8080/",
          "height": 472
        },
        "id": "PpRwTszNwBzo",
        "outputId": "ff95c246-a70a-4682-fc4b-84659ff1afd1"
      },
      "execution_count": 26,
      "outputs": [
        {
          "output_type": "display_data",
          "data": {
            "text/plain": [
              "<Figure size 640x480 with 1 Axes>"
            ],
            "image/png": "[encoded data removed]"
          },
          "metadata": {}
        }
      ]
    }
  ]
}