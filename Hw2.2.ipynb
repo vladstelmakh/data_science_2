{
  "nbformat": 4,
  "nbformat_minor": 0,
  "metadata": {
    "colab": {
      "provenance": []
    },
    "kernelspec": {
      "name": "python3",
      "display_name": "Python 3"
    },
    "language_info": {
      "name": "python"
    }
  },
  "cells": [
    {
      "cell_type": "code",
      "source": [
        "import pandas as pd\n",
        "\n",
        "data = pd.read_csv(\"2017_jun_final.csv\")"
      ],
      "metadata": {
        "id": "uIogBt3olC5Z"
      },
      "execution_count": 40,
      "outputs": []
    },
    {
      "cell_type": "markdown",
      "source": [
        "Вивести перші рядки таблиці за допомогою методу head:"
      ],
      "metadata": {
        "id": "AyhrekZWldDT"
      }
    },
    {
      "cell_type": "code",
      "source": [
        "print(data.head())\n"
      ],
      "metadata": {
        "colab": {
          "base_uri": "https://localhost:8080/"
        },
        "id": "IY5yoAtUlXca",
        "outputId": "1834cafb-8657-4efb-c7b8-dc511bcf960e"
      },
      "execution_count": 41,
      "outputs": [
        {
          "output_type": "stream",
          "name": "stdout",
          "text": [
            "   N                 Должность Язык.программирования Специализация  \\\n",
            "0  1        Junior QA engineer                   NaN     Manual QA   \n",
            "1  2        Junior QA engineer                   NaN     Manual QA   \n",
            "2  3         Software Engineer               C#/.NET           NaN   \n",
            "3  4         Software Engineer            JavaScript           NaN   \n",
            "4  5  Senior Software Engineer            JavaScript           NaN   \n",
            "\n",
            "  Общий.опыт.работы Опыт.работы.на.текущем.месте  Зарплата.в.месяц  \\\n",
            "0               0.5                          0.5               400   \n",
            "1  меньше 3 месяцев             меньше 3 месяцев               430   \n",
            "2                 4                            1              2500   \n",
            "3                 5                            4              2000   \n",
            "4    10 и более лет                          0.5              4500   \n",
            "\n",
            "   Изменение.зарплаты.за.12.месяцев    Город     Размер.компании  ...  \\\n",
            "0                                 0  Харьков       до 10 человек  ...   \n",
            "1                               130  Харьков  свыше 1000 человек  ...   \n",
            "2                               800     Киев     до 1000 человек  ...   \n",
            "3                               400   Одесса      до 200 человек  ...   \n",
            "4                               500   Другой       до 10 человек  ...   \n",
            "\n",
            "  Еще.студент Уровень.английского                    Предметная.область  \\\n",
            "0        True       ниже среднего                         iOS,eCommerce   \n",
            "1        True       выше среднего                        Веб-разработка   \n",
            "2       False             средний  Веб-разработка,Корпоративные системы   \n",
            "3       False       ниже среднего   Desktop Applications,Веб-разработка   \n",
            "4       False             средний   Desktop Applications,Веб-разработка   \n",
            "\n",
            "       Дата.заполнения                                         User.Agent  \\\n",
            "0  12/06/2017 12:38:08  Mozilla/5.0 (Windows NT 10.0; Win64; x64) Appl...   \n",
            "1  12/06/2017 12:42:51  Mozilla/5.0 (iPad; CPU OS 10_2_1 like Mac OS X...   \n",
            "2  12/06/2017 13:02:47  Mozilla/5.0 (Windows NT 10.0; Win64; x64) Appl...   \n",
            "3  12/06/2017 13:03:01  Mozilla/5.0 (Windows NT 6.1; Win64; x64) Apple...   \n",
            "4  12/06/2017 13:03:47  Mozilla/5.0 (iPhone; CPU iPhone OS 10_3_2 like...   \n",
            "\n",
            "    exp current_job_exp salary Валюта  cls  \n",
            "0   0.5             0.5    400    NaN   QA  \n",
            "1   0.0             0.0    430    NaN   QA  \n",
            "2   4.0             1.0   2500    NaN  DEV  \n",
            "3   5.0             4.0   2000    NaN  DEV  \n",
            "4  10.0             0.5   4500    NaN  DEV  \n",
            "\n",
            "[5 rows x 25 columns]\n"
          ]
        }
      ]
    },
    {
      "cell_type": "markdown",
      "source": [
        "Визначити розмір таблиці за допомогою методу shape:"
      ],
      "metadata": {
        "id": "UuKUu5qnldmz"
      }
    },
    {
      "cell_type": "code",
      "source": [
        "print(\"Розмір таблиці:\", data.shape)"
      ],
      "metadata": {
        "colab": {
          "base_uri": "https://localhost:8080/"
        },
        "id": "JfH3G_szlaTW",
        "outputId": "17d985bd-a6e3-4495-c18a-48545bfaa3bc"
      },
      "execution_count": 42,
      "outputs": [
        {
          "output_type": "stream",
          "name": "stdout",
          "text": [
            "Розмір таблиці: (8704, 25)\n"
          ]
        }
      ]
    },
    {
      "cell_type": "markdown",
      "source": [
        "Визначити типи всіх стовпців за допомогою data.dtypes:"
      ],
      "metadata": {
        "id": "bRKSEw30lhpa"
      }
    },
    {
      "cell_type": "code",
      "source": [
        "print(\"Типи стовпців:\")\n",
        "print(data.dtypes)"
      ],
      "metadata": {
        "colab": {
          "base_uri": "https://localhost:8080/"
        },
        "id": "A0t95TH1ljs7",
        "outputId": "ece26c56-d29e-42b6-eaab-69e8aa2a774c"
      },
      "execution_count": 43,
      "outputs": [
        {
          "output_type": "stream",
          "name": "stdout",
          "text": [
            "Типи стовпців:\n",
            "N                                     int64\n",
            "Должность                            object\n",
            "Язык.программирования                object\n",
            "Специализация                        object\n",
            "Общий.опыт.работы                    object\n",
            "Опыт.работы.на.текущем.месте         object\n",
            "Зарплата.в.месяц                      int64\n",
            "Изменение.зарплаты.за.12.месяцев      int64\n",
            "Город                                object\n",
            "Размер.компании                      object\n",
            "Тип.компании                         object\n",
            "Пол                                  object\n",
            "Возраст                               int64\n",
            "Образование                          object\n",
            "Университет                          object\n",
            "Еще.студент                            bool\n",
            "Уровень.английского                  object\n",
            "Предметная.область                   object\n",
            "Дата.заполнения                      object\n",
            "User.Agent                           object\n",
            "exp                                 float64\n",
            "current_job_exp                     float64\n",
            "salary                                int64\n",
            "Валюта                               object\n",
            "cls                                  object\n",
            "dtype: object\n"
          ]
        }
      ]
    },
    {
      "cell_type": "markdown",
      "source": [
        "Порахувати, яка частка пропусків міститься в кожній колонці:"
      ],
      "metadata": {
        "id": "-GQ2A3h7llvR"
      }
    },
    {
      "cell_type": "code",
      "source": [
        "missing_data_percentage = (data.isnull().sum() / data.shape[0]) * 100\n",
        "print(\"Частка пропусків у кожній колонці:\")\n",
        "print(missing_data_percentage)\n"
      ],
      "metadata": {
        "colab": {
          "base_uri": "https://localhost:8080/"
        },
        "id": "xKU5dpmmlncx",
        "outputId": "61b4c344-97a8-4cc8-b8b4-d92c36d151d3"
      },
      "execution_count": 44,
      "outputs": [
        {
          "output_type": "stream",
          "name": "stdout",
          "text": [
            "Частка пропусків у кожній колонці:\n",
            "N                                    0.000000\n",
            "Должность                            0.000000\n",
            "Язык.программирования               44.232537\n",
            "Специализация                       82.938879\n",
            "Общий.опыт.работы                    0.000000\n",
            "Опыт.работы.на.текущем.месте         0.000000\n",
            "Зарплата.в.месяц                     0.000000\n",
            "Изменение.зарплаты.за.12.месяцев     0.000000\n",
            "Город                                0.000000\n",
            "Размер.компании                      0.000000\n",
            "Тип.компании                         0.000000\n",
            "Пол                                  0.000000\n",
            "Возраст                              0.000000\n",
            "Образование                          0.000000\n",
            "Университет                          4.113051\n",
            "Еще.студент                          0.000000\n",
            "Уровень.английского                  0.000000\n",
            "Предметная.область                   2.562040\n",
            "Дата.заполнения                      0.000000\n",
            "User.Agent                           0.000000\n",
            "exp                                  0.000000\n",
            "current_job_exp                      0.000000\n",
            "salary                               0.000000\n",
            "Валюта                              99.885110\n",
            "cls                                 18.083640\n",
            "dtype: float64\n"
          ]
        }
      ]
    },
    {
      "cell_type": "markdown",
      "source": [
        "Видалити усі стовпці з пропусками, крім стовпця \"Мова програмування\":"
      ],
      "metadata": {
        "id": "k7e7iAdclqJa"
      }
    },
    {
      "cell_type": "code",
      "source": [
        "data = data.dropna(subset=['Язык.программирования'])\n",
        "print(data)"
      ],
      "metadata": {
        "colab": {
          "base_uri": "https://localhost:8080/"
        },
        "id": "n_xkhOB2lsPR",
        "outputId": "ae8b8318-46e0-409b-e77c-627e66002284"
      },
      "execution_count": 45,
      "outputs": [
        {
          "output_type": "stream",
          "name": "stdout",
          "text": [
            "         N                 Должность Язык.программирования Специализация  \\\n",
            "2        3         Software Engineer               C#/.NET           NaN   \n",
            "3        4         Software Engineer            JavaScript           NaN   \n",
            "4        5  Senior Software Engineer            JavaScript           NaN   \n",
            "6        7  Junior Software Engineer               C#/.NET           NaN   \n",
            "7        8  Senior Software Engineer                   C++           NaN   \n",
            "...    ...                       ...                   ...           ...   \n",
            "8692  8693         Software Engineer                  Java           NaN   \n",
            "8694  8695  Junior Software Engineer               C#/.NET           NaN   \n",
            "8695  8696         Software Engineer                Python           NaN   \n",
            "8701  8702  Junior Software Engineer            Ruby/Rails           NaN   \n",
            "8703  8704  Senior Software Engineer                  Java           NaN   \n",
            "\n",
            "     Общий.опыт.работы Опыт.работы.на.текущем.месте  Зарплата.в.месяц  \\\n",
            "2                    4                            1              2500   \n",
            "3                    5                            4              2000   \n",
            "4       10 и более лет                          0.5              4500   \n",
            "6                    1             меньше 3 месяцев               600   \n",
            "7                    6                            1              3300   \n",
            "...                ...                          ...               ...   \n",
            "8692                 5                            1              3500   \n",
            "8694                 1                            1               550   \n",
            "8695                 1                          0.5              1500   \n",
            "8701                 1                          0.5               800   \n",
            "8703                 7                            2              5000   \n",
            "\n",
            "      Изменение.зарплаты.за.12.месяцев        Город  Размер.компании  ...  \\\n",
            "2                                  800         Киев  до 1000 человек  ...   \n",
            "3                                  400       Одесса   до 200 человек  ...   \n",
            "4                                  500       Другой    до 10 человек  ...   \n",
            "6                                  100  Хмельницкий    до 50 человек  ...   \n",
            "7                                  500         Киев    до 10 человек  ...   \n",
            "...                                ...          ...              ...  ...   \n",
            "8692                               650     Удаленно   до 200 человек  ...   \n",
            "8694                               550      Харьков   до 200 человек  ...   \n",
            "8695                              1000         Киев    до 10 человек  ...   \n",
            "8701                               500        Львов    до 10 человек  ...   \n",
            "8703                               800       Одесса  до 1000 человек  ...   \n",
            "\n",
            "     Еще.студент Уровень.английского  \\\n",
            "2          False             средний   \n",
            "3          False       ниже среднего   \n",
            "4          False             средний   \n",
            "6          False       ниже среднего   \n",
            "7          False       выше среднего   \n",
            "...          ...                 ...   \n",
            "8692       False             средний   \n",
            "8694       False       ниже среднего   \n",
            "8695       False             средний   \n",
            "8701       False       выше среднего   \n",
            "8703       False       выше среднего   \n",
            "\n",
            "                                   Предметная.область      Дата.заполнения  \\\n",
            "2                Веб-разработка,Корпоративные системы  12/06/2017 13:02:47   \n",
            "3                 Desktop Applications,Веб-разработка  12/06/2017 13:03:01   \n",
            "4                 Desktop Applications,Веб-разработка  12/06/2017 13:03:47   \n",
            "6                                      Веб-разработка  12/06/2017 13:04:26   \n",
            "7                                              Другое  12/06/2017 13:04:27   \n",
            "...                                               ...                  ...   \n",
            "8692                                        eCommerce  12/07/2017 13:26:49   \n",
            "8694  Desktop Applications,Системное программирование  12/07/2017 14:14:33   \n",
            "8695                        Финансы и банки,eCommerce  12/07/2017 14:39:21   \n",
            "8701             Веб-разработка,Корпоративные системы  12/07/2017 17:32:26   \n",
            "8703                                   Веб-разработка  12/07/2017 21:28:57   \n",
            "\n",
            "                                             User.Agent   exp current_job_exp  \\\n",
            "2     Mozilla/5.0 (Windows NT 10.0; Win64; x64) Appl...   4.0             1.0   \n",
            "3     Mozilla/5.0 (Windows NT 6.1; Win64; x64) Apple...   5.0             4.0   \n",
            "4     Mozilla/5.0 (iPhone; CPU iPhone OS 10_3_2 like...  10.0             0.5   \n",
            "6     Mozilla/5.0 (Windows NT 10.0; Win64; x64) Appl...   1.0             0.0   \n",
            "7     Mozilla/5.0 (X11; Ubuntu; Linux x86_64; rv:53....   6.0             1.0   \n",
            "...                                                 ...   ...             ...   \n",
            "8692  Mozilla/5.0 (Macintosh; Intel Mac OS X 10_12_5...   5.0             1.0   \n",
            "8694  Mozilla/5.0 (Windows NT 10.0; WOW64; rv:54.0) ...   1.0             1.0   \n",
            "8695  Mozilla/5.0 (X11; Linux x86_64) AppleWebKit/53...   1.0             0.5   \n",
            "8701  Mozilla/5.0 (X11; Linux x86_64) AppleWebKit/53...   1.0             0.5   \n",
            "8703  Mozilla/5.0 (iPad; CPU OS 10_3_2 like Mac OS X...   7.0             2.0   \n",
            "\n",
            "     salary Валюта  cls  \n",
            "2      2500    NaN  DEV  \n",
            "3      2000    NaN  DEV  \n",
            "4      4500    NaN  DEV  \n",
            "6       600    NaN  DEV  \n",
            "7      3300    NaN  DEV  \n",
            "...     ...    ...  ...  \n",
            "8692   3500    NaN  DEV  \n",
            "8694    550    NaN  DEV  \n",
            "8695   1500    NaN  DEV  \n",
            "8701    800    NaN  DEV  \n",
            "8703   5000    NaN  DEV  \n",
            "\n",
            "[4854 rows x 25 columns]\n"
          ]
        }
      ]
    },
    {
      "cell_type": "markdown",
      "source": [
        "Знову порахувати, яка частка пропусків міститься в кожній колонці:"
      ],
      "metadata": {
        "id": "O4V9mn2il5UD"
      }
    },
    {
      "cell_type": "code",
      "source": [
        "missing_data_percentage = (data.isnull().sum() / data.shape[0]) * 100\n",
        "print(\"Частка пропусків у кожній колонці після видалення стовпців з пропусками:\")\n",
        "print(missing_data_percentage)\n"
      ],
      "metadata": {
        "colab": {
          "base_uri": "https://localhost:8080/"
        },
        "id": "PrBxeCubl5pf",
        "outputId": "9af4def5-e937-435c-bf7f-46318834aade"
      },
      "execution_count": 46,
      "outputs": [
        {
          "output_type": "stream",
          "name": "stdout",
          "text": [
            "Частка пропусків у кожній колонці після видалення стовпців з пропусками:\n",
            "N                                    0.000000\n",
            "Должность                            0.000000\n",
            "Язык.программирования                0.000000\n",
            "Специализация                       99.979398\n",
            "Общий.опыт.работы                    0.000000\n",
            "Опыт.работы.на.текущем.месте         0.000000\n",
            "Зарплата.в.месяц                     0.000000\n",
            "Изменение.зарплаты.за.12.месяцев     0.000000\n",
            "Город                                0.000000\n",
            "Размер.компании                      0.000000\n",
            "Тип.компании                         0.000000\n",
            "Пол                                  0.000000\n",
            "Возраст                              0.000000\n",
            "Образование                          0.000000\n",
            "Университет                          4.758962\n",
            "Еще.студент                          0.000000\n",
            "Уровень.английского                  0.000000\n",
            "Предметная.область                   0.618047\n",
            "Дата.заполнения                      0.000000\n",
            "User.Agent                           0.000000\n",
            "exp                                  0.000000\n",
            "current_job_exp                      0.000000\n",
            "salary                               0.000000\n",
            "Валюта                              99.835187\n",
            "cls                                  0.164813\n",
            "dtype: float64\n"
          ]
        }
      ]
    },
    {
      "cell_type": "markdown",
      "source": [
        "Видалити усі рядки у вихідній таблиці за допомогою методу dropna:"
      ],
      "metadata": {
        "id": "hKPT8TpWl-4A"
      }
    },
    {
      "cell_type": "code",
      "source": [
        "data.dropna()\n"
      ],
      "metadata": {
        "colab": {
          "base_uri": "https://localhost:8080/",
          "height": 99
        },
        "id": "8bCtSgqll_8R",
        "outputId": "bf134b6a-d937-48aa-aa7a-5679067ffc73"
      },
      "execution_count": 47,
      "outputs": [
        {
          "output_type": "execute_result",
          "data": {
            "text/plain": [
              "Empty DataFrame\n",
              "Columns: [N, Должность, Язык.программирования, Специализация, Общий.опыт.работы, Опыт.работы.на.текущем.месте, Зарплата.в.месяц, Изменение.зарплаты.за.12.месяцев, Город, Размер.компании, Тип.компании, Пол, Возраст, Образование, Университет, Еще.студент, Уровень.английского, Предметная.область, Дата.заполнения, User.Agent, exp, current_job_exp, salary, Валюта, cls]\n",
              "Index: []\n",
              "\n",
              "[0 rows x 25 columns]"
            ],
            "text/html": [
              "\n",
              "  <div id=\"df-d2ace05c-387b-456d-91cd-704ae4661707\" class=\"colab-df-container\">\n",
              "    <div>\n",
              "<style scoped>\n",
              "    .dataframe tbody tr th:only-of-type {\n",
              "        vertical-align: middle;\n",
              "    }\n",
              "\n",
              "    .dataframe tbody tr th {\n",
              "        vertical-align: top;\n",
              "    }\n",
              "\n",
              "    .dataframe thead th {\n",
              "        text-align: right;\n",
              "    }\n",
              "</style>\n",
              "<table border=\"1\" class=\"dataframe\">\n",
              "  <thead>\n",
              "    <tr style=\"text-align: right;\">\n",
              "      <th></th>\n",
              "      <th>N</th>\n",
              "      <th>Должность</th>\n",
              "      <th>Язык.программирования</th>\n",
              "      <th>Специализация</th>\n",
              "      <th>Общий.опыт.работы</th>\n",
              "      <th>Опыт.работы.на.текущем.месте</th>\n",
              "      <th>Зарплата.в.месяц</th>\n",
              "      <th>Изменение.зарплаты.за.12.месяцев</th>\n",
              "      <th>Город</th>\n",
              "      <th>Размер.компании</th>\n",
              "      <th>...</th>\n",
              "      <th>Еще.студент</th>\n",
              "      <th>Уровень.английского</th>\n",
              "      <th>Предметная.область</th>\n",
              "      <th>Дата.заполнения</th>\n",
              "      <th>User.Agent</th>\n",
              "      <th>exp</th>\n",
              "      <th>current_job_exp</th>\n",
              "      <th>salary</th>\n",
              "      <th>Валюта</th>\n",
              "      <th>cls</th>\n",
              "    </tr>\n",
              "  </thead>\n",
              "  <tbody>\n",
              "  </tbody>\n",
              "</table>\n",
              "<p>0 rows × 25 columns</p>\n",
              "</div>\n",
              "    <div class=\"colab-df-buttons\">\n",
              "\n",
              "  <div class=\"colab-df-container\">\n",
              "    <button class=\"colab-df-convert\" onclick=\"convertToInteractive('df-d2ace05c-387b-456d-91cd-704ae4661707')\"\n",
              "            title=\"Convert this dataframe to an interactive table.\"\n",
              "            style=\"display:none;\">\n",
              "\n",
              "  <svg xmlns=\"http://www.w3.org/2000/svg\" height=\"24px\" viewBox=\"0 -960 960 960\">\n",
              "    <path d=\"M120-120v-720h720v720H120Zm60-500h600v-160H180v160Zm220 220h160v-160H400v160Zm0 220h160v-160H400v160ZM180-400h160v-160H180v160Zm440 0h160v-160H620v160ZM180-180h160v-160H180v160Zm440 0h160v-160H620v160Z\"/>\n",
              "  </svg>\n",
              "    </button>\n",
              "\n",
              "  <style>\n",
              "    .colab-df-container {\n",
              "      display:flex;\n",
              "      gap: 12px;\n",
              "    }\n",
              "\n",
              "    .colab-df-convert {\n",
              "      background-color: #E8F0FE;\n",
              "      border: none;\n",
              "      border-radius: 50%;\n",
              "      cursor: pointer;\n",
              "      display: none;\n",
              "      fill: #1967D2;\n",
              "      height: 32px;\n",
              "      padding: 0 0 0 0;\n",
              "      width: 32px;\n",
              "    }\n",
              "\n",
              "    .colab-df-convert:hover {\n",
              "      background-color: #E2EBFA;\n",
              "      box-shadow: 0px 1px 2px rgba(60, 64, 67, 0.3), 0px 1px 3px 1px rgba(60, 64, 67, 0.15);\n",
              "      fill: #174EA6;\n",
              "    }\n",
              "\n",
              "    .colab-df-buttons div {\n",
              "      margin-bottom: 4px;\n",
              "    }\n",
              "\n",
              "    [theme=dark] .colab-df-convert {\n",
              "      background-color: #3B4455;\n",
              "      fill: #D2E3FC;\n",
              "    }\n",
              "\n",
              "    [theme=dark] .colab-df-convert:hover {\n",
              "      background-color: #434B5C;\n",
              "      box-shadow: 0px 1px 3px 1px rgba(0, 0, 0, 0.15);\n",
              "      filter: drop-shadow(0px 1px 2px rgba(0, 0, 0, 0.3));\n",
              "      fill: #FFFFFF;\n",
              "    }\n",
              "  </style>\n",
              "\n",
              "    <script>\n",
              "      const buttonEl =\n",
              "        document.querySelector('#df-d2ace05c-387b-456d-91cd-704ae4661707 button.colab-df-convert');\n",
              "      buttonEl.style.display =\n",
              "        google.colab.kernel.accessAllowed ? 'block' : 'none';\n",
              "\n",
              "      async function convertToInteractive(key) {\n",
              "        const element = document.querySelector('#df-d2ace05c-387b-456d-91cd-704ae4661707');\n",
              "        const dataTable =\n",
              "          await google.colab.kernel.invokeFunction('convertToInteractive',\n",
              "                                                    [key], {});\n",
              "        if (!dataTable) return;\n",
              "\n",
              "        const docLinkHtml = 'Like what you see? Visit the ' +\n",
              "          '<a target=\"_blank\" href=https://colab.research.google.com/notebooks/data_table.ipynb>data table notebook</a>'\n",
              "          + ' to learn more about interactive tables.';\n",
              "        element.innerHTML = '';\n",
              "        dataTable['output_type'] = 'display_data';\n",
              "        await google.colab.output.renderOutput(dataTable, element);\n",
              "        const docLink = document.createElement('div');\n",
              "        docLink.innerHTML = docLinkHtml;\n",
              "        element.appendChild(docLink);\n",
              "      }\n",
              "    </script>\n",
              "  </div>\n",
              "\n",
              "    </div>\n",
              "  </div>\n"
            ]
          },
          "metadata": {},
          "execution_count": 47
        }
      ]
    },
    {
      "cell_type": "markdown",
      "source": [
        "Визначити новий розмір таблиці за допомогою методу shape:"
      ],
      "metadata": {
        "id": "akCyRMJVmOq1"
      }
    },
    {
      "cell_type": "code",
      "source": [
        "print(\"Розмір таблиці після видалення рядків з пропусками:\", data.shape)\n",
        "print(data)"
      ],
      "metadata": {
        "colab": {
          "base_uri": "https://localhost:8080/"
        },
        "id": "wx0RjrqjmO9I",
        "outputId": "5df6f800-fe15-49ae-c810-33400bc8efe4"
      },
      "execution_count": 48,
      "outputs": [
        {
          "output_type": "stream",
          "name": "stdout",
          "text": [
            "Розмір таблиці після видалення рядків з пропусками: (4854, 25)\n",
            "         N                 Должность Язык.программирования Специализация  \\\n",
            "2        3         Software Engineer               C#/.NET           NaN   \n",
            "3        4         Software Engineer            JavaScript           NaN   \n",
            "4        5  Senior Software Engineer            JavaScript           NaN   \n",
            "6        7  Junior Software Engineer               C#/.NET           NaN   \n",
            "7        8  Senior Software Engineer                   C++           NaN   \n",
            "...    ...                       ...                   ...           ...   \n",
            "8692  8693         Software Engineer                  Java           NaN   \n",
            "8694  8695  Junior Software Engineer               C#/.NET           NaN   \n",
            "8695  8696         Software Engineer                Python           NaN   \n",
            "8701  8702  Junior Software Engineer            Ruby/Rails           NaN   \n",
            "8703  8704  Senior Software Engineer                  Java           NaN   \n",
            "\n",
            "     Общий.опыт.работы Опыт.работы.на.текущем.месте  Зарплата.в.месяц  \\\n",
            "2                    4                            1              2500   \n",
            "3                    5                            4              2000   \n",
            "4       10 и более лет                          0.5              4500   \n",
            "6                    1             меньше 3 месяцев               600   \n",
            "7                    6                            1              3300   \n",
            "...                ...                          ...               ...   \n",
            "8692                 5                            1              3500   \n",
            "8694                 1                            1               550   \n",
            "8695                 1                          0.5              1500   \n",
            "8701                 1                          0.5               800   \n",
            "8703                 7                            2              5000   \n",
            "\n",
            "      Изменение.зарплаты.за.12.месяцев        Город  Размер.компании  ...  \\\n",
            "2                                  800         Киев  до 1000 человек  ...   \n",
            "3                                  400       Одесса   до 200 человек  ...   \n",
            "4                                  500       Другой    до 10 человек  ...   \n",
            "6                                  100  Хмельницкий    до 50 человек  ...   \n",
            "7                                  500         Киев    до 10 человек  ...   \n",
            "...                                ...          ...              ...  ...   \n",
            "8692                               650     Удаленно   до 200 человек  ...   \n",
            "8694                               550      Харьков   до 200 человек  ...   \n",
            "8695                              1000         Киев    до 10 человек  ...   \n",
            "8701                               500        Львов    до 10 человек  ...   \n",
            "8703                               800       Одесса  до 1000 человек  ...   \n",
            "\n",
            "     Еще.студент Уровень.английского  \\\n",
            "2          False             средний   \n",
            "3          False       ниже среднего   \n",
            "4          False             средний   \n",
            "6          False       ниже среднего   \n",
            "7          False       выше среднего   \n",
            "...          ...                 ...   \n",
            "8692       False             средний   \n",
            "8694       False       ниже среднего   \n",
            "8695       False             средний   \n",
            "8701       False       выше среднего   \n",
            "8703       False       выше среднего   \n",
            "\n",
            "                                   Предметная.область      Дата.заполнения  \\\n",
            "2                Веб-разработка,Корпоративные системы  12/06/2017 13:02:47   \n",
            "3                 Desktop Applications,Веб-разработка  12/06/2017 13:03:01   \n",
            "4                 Desktop Applications,Веб-разработка  12/06/2017 13:03:47   \n",
            "6                                      Веб-разработка  12/06/2017 13:04:26   \n",
            "7                                              Другое  12/06/2017 13:04:27   \n",
            "...                                               ...                  ...   \n",
            "8692                                        eCommerce  12/07/2017 13:26:49   \n",
            "8694  Desktop Applications,Системное программирование  12/07/2017 14:14:33   \n",
            "8695                        Финансы и банки,eCommerce  12/07/2017 14:39:21   \n",
            "8701             Веб-разработка,Корпоративные системы  12/07/2017 17:32:26   \n",
            "8703                                   Веб-разработка  12/07/2017 21:28:57   \n",
            "\n",
            "                                             User.Agent   exp current_job_exp  \\\n",
            "2     Mozilla/5.0 (Windows NT 10.0; Win64; x64) Appl...   4.0             1.0   \n",
            "3     Mozilla/5.0 (Windows NT 6.1; Win64; x64) Apple...   5.0             4.0   \n",
            "4     Mozilla/5.0 (iPhone; CPU iPhone OS 10_3_2 like...  10.0             0.5   \n",
            "6     Mozilla/5.0 (Windows NT 10.0; Win64; x64) Appl...   1.0             0.0   \n",
            "7     Mozilla/5.0 (X11; Ubuntu; Linux x86_64; rv:53....   6.0             1.0   \n",
            "...                                                 ...   ...             ...   \n",
            "8692  Mozilla/5.0 (Macintosh; Intel Mac OS X 10_12_5...   5.0             1.0   \n",
            "8694  Mozilla/5.0 (Windows NT 10.0; WOW64; rv:54.0) ...   1.0             1.0   \n",
            "8695  Mozilla/5.0 (X11; Linux x86_64) AppleWebKit/53...   1.0             0.5   \n",
            "8701  Mozilla/5.0 (X11; Linux x86_64) AppleWebKit/53...   1.0             0.5   \n",
            "8703  Mozilla/5.0 (iPad; CPU OS 10_3_2 like Mac OS X...   7.0             2.0   \n",
            "\n",
            "     salary Валюта  cls  \n",
            "2      2500    NaN  DEV  \n",
            "3      2000    NaN  DEV  \n",
            "4      4500    NaN  DEV  \n",
            "6       600    NaN  DEV  \n",
            "7      3300    NaN  DEV  \n",
            "...     ...    ...  ...  \n",
            "8692   3500    NaN  DEV  \n",
            "8694    550    NaN  DEV  \n",
            "8695   1500    NaN  DEV  \n",
            "8701    800    NaN  DEV  \n",
            "8703   5000    NaN  DEV  \n",
            "\n",
            "[4854 rows x 25 columns]\n"
          ]
        }
      ]
    },
    {
      "cell_type": "markdown",
      "source": [
        "Створити нову таблицю python_data, в якій будуть тільки рядки зі спеціалістами, які вказали мову програмування Python:"
      ],
      "metadata": {
        "id": "Al1bNbn-mSzQ"
      }
    },
    {
      "cell_type": "code",
      "source": [
        "python_data = data[data['Язык.программирования'] == 'Python']\n"
      ],
      "metadata": {
        "id": "ONbDrLbZmTli"
      },
      "execution_count": 49,
      "outputs": []
    },
    {
      "cell_type": "markdown",
      "source": [
        "Визначити розмір таблиці python_data:"
      ],
      "metadata": {
        "id": "dVYgnpr8mZc0"
      }
    },
    {
      "cell_type": "code",
      "source": [
        "print(\"Розмір таблиці python_data:\", python_data.shape)\n"
      ],
      "metadata": {
        "colab": {
          "base_uri": "https://localhost:8080/"
        },
        "id": "zGmFoL_cmZpl",
        "outputId": "31289942-4da8-49af-c9a0-33809cf6ea40"
      },
      "execution_count": 50,
      "outputs": [
        {
          "output_type": "stream",
          "name": "stdout",
          "text": [
            "Розмір таблиці python_data: (207, 25)\n"
          ]
        }
      ]
    },
    {
      "cell_type": "markdown",
      "source": [
        "Використовуючи метод groupby, виконати групування за стовпчиком \"Посада\":"
      ],
      "metadata": {
        "id": "LR1QQR3KmbAc"
      }
    },
    {
      "cell_type": "code",
      "source": [
        "grouped_data = data.groupby('Должность')\n"
      ],
      "metadata": {
        "id": "J-ZVRYvqmdkU"
      },
      "execution_count": 51,
      "outputs": []
    },
    {
      "cell_type": "markdown",
      "source": [
        "Створити новий DataFrame, де для згрупованих даних за стовпчиком \"Посада\", виконати агрегацію даних за допомогою методу agg і знайдіть мінімальне та максимальне значення у стовпчику \"Зарплата.в.місяць\":"
      ],
      "metadata": {
        "id": "IvDXv9N9mji-"
      }
    },
    {
      "cell_type": "code",
      "source": [
        "aggregated_data = grouped_data['Зарплата.в.месяц'].agg(['min', 'max'])\n"
      ],
      "metadata": {
        "id": "fiSwfK-nmkoR"
      },
      "execution_count": 52,
      "outputs": []
    },
    {
      "cell_type": "markdown",
      "source": [
        "Створити функцію fill_avg_salary, яка повертатиме середнє значення заробітної плати на місяць. Використовуйте її для методу apply та створіть новий стовпчик \"avg\":"
      ],
      "metadata": {
        "id": "5LMvC6xGmsJS"
      }
    },
    {
      "cell_type": "code",
      "source": [
        "def fill_avg_salary(salary_column):\n",
        "    return salary_column.mean()\n",
        "\n",
        "data['avg'] = data['Зарплата.в.месяц'].mean()"
      ],
      "metadata": {
        "id": "1g0TijaKmsVJ"
      },
      "execution_count": 54,
      "outputs": []
    },
    {
      "cell_type": "markdown",
      "source": [
        "Створити описову статистику за допомогою методу describe для нового стовпчика \"avg\""
      ],
      "metadata": {
        "id": "s6RmRvRfmz3q"
      }
    },
    {
      "cell_type": "code",
      "source": [
        "print(data['avg'].describe())\n"
      ],
      "metadata": {
        "colab": {
          "base_uri": "https://localhost:8080/"
        },
        "id": "PrOcmg88mzX0",
        "outputId": "d9dd534c-17f1-4bf0-dbe0-265af6ad06eb"
      },
      "execution_count": 55,
      "outputs": [
        {
          "output_type": "stream",
          "name": "stdout",
          "text": [
            "count    4854.000000\n",
            "mean     1883.371034\n",
            "std         0.000000\n",
            "min      1883.371034\n",
            "25%      1883.371034\n",
            "50%      1883.371034\n",
            "75%      1883.371034\n",
            "max      1883.371034\n",
            "Name: avg, dtype: float64\n"
          ]
        }
      ]
    },
    {
      "cell_type": "markdown",
      "source": [
        "Зберегти отриману таблицю в CSV файл:"
      ],
      "metadata": {
        "id": "6FtB5Xifm1po"
      }
    },
    {
      "cell_type": "code",
      "source": [
        "data.to_csv(\"processeded_data.csv\", index=False)\n"
      ],
      "metadata": {
        "id": "IfYRQv7dm3pZ"
      },
      "execution_count": 56,
      "outputs": []
    }
  ]
}